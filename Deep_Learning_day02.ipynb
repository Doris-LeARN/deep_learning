{
 "cells": [
  {
   "cell_type": "code",
   "execution_count": 1,
   "id": "38d1e6ae",
   "metadata": {},
   "outputs": [
    {
     "name": "stderr",
     "output_type": "stream",
     "text": [
      "2024-03-18 13:30:04.892280: I tensorflow/core/platform/cpu_feature_guard.cc:210] This TensorFlow binary is optimized to use available CPU instructions in performance-critical operations.\n",
      "To enable the following instructions: AVX2 FMA, in other operations, rebuild TensorFlow with the appropriate compiler flags.\n"
     ]
    }
   ],
   "source": [
    "import numpy as np\n",
    "import matplotlib.pyplot as plt\n",
    "from keras.datasets import mnist\n",
    "from keras import models\n",
    "from keras import layers\n",
    "from keras.utils import to_categorical"
   ]
  },
  {
   "cell_type": "code",
   "execution_count": 2,
   "id": "458d6987",
   "metadata": {},
   "outputs": [],
   "source": [
    "# Fonction d'activation identité\n",
    "def identity(x):\n",
    "    return x\n",
    "\n",
    "# Fonction d'activation sigmoïde\n",
    "def sigmoid(x):\n",
    "    return 1/(1 + np.exp(-x))\n",
    "\n",
    "# Fonction d'activation relu\n",
    "def relu(x):\n",
    "    return max(0,x)\n",
    "\n",
    "# Fonction d'activation tangente hyperbolique\n",
    "def tanh(x):\n",
    "    return (np.exp(x)-np.exp(-x))/(np.exp(x)+np.exp(-x))\n",
    "\n",
    "# Fonction de dérivation\n",
    "def derivative(f,x,alpha=0.000001):\n",
    "    return (f(x+alpha)-f(x))/alpha\n",
    "\n",
    "# Fonction de propagation avant\n",
    "def forward(X,W,b,f):\n",
    "    z = np.dot(X,W) + b\n",
    "    return f(z)\n",
    "\n",
    "# Fonction de backward propagation\n",
    "def backward(X,y,output,a1,W1,b1,W2,b2,f1,f2):\n",
    "    outpout_error = y - output\n",
    "    outpout_delta = outpout_error*derivative(f2,output)\n",
    "    hidden_error = outpout_delta.dot(W2.T) \n",
    "    hidden_delta = hidden_error*derivative(f1,a1)\n",
    "    W1 += X.T.dot(hidden_delta)\n",
    "    b1 += np.sum(hidden_delta,axis=0,keepdims=True)\n",
    "    W2 += a1.T.dot(outpout_delta)\n",
    "    b2 += np.sum(outpout_delta,axis=0,keepdims=True)\n",
    "    return W1,b1,W2,b2\n",
    "\n",
    "def train_model(X,y,input_size,hidden_size,output_size,epochs,batch,f1,f2):\n",
    "    W1 = np.random.randn(input_size,hidden_size)\n",
    "    b1 = np.zeros((1,hidden_size))\n",
    "    W2 = np.random.randn(hidden_size,output_size)\n",
    "    b2 = np.zeros((1,output_size))\n",
    "    \n",
    "    for epoch in range(1,epochs+1) :\n",
    "        a1 = forward(X,W1,b1,f1)\n",
    "        output = forward(a1,W2,b2,f2)\n",
    "        W1,b1,W2,b2 = backward(X,y,output,a1,W1,b1,W2,b2,f1,f2)\n",
    "        loss = np.mean(np.square(y-output))\n",
    "        \n",
    "        if epoch%batch==0 :\n",
    "            print(f\"Epoch {epoch} =============> : {loss:.4f}\")\n",
    "    return W1,b1,W2,b2"
   ]
  },
  {
   "cell_type": "code",
   "execution_count": 3,
   "id": "44389f18",
   "metadata": {},
   "outputs": [
    {
     "name": "stdout",
     "output_type": "stream",
     "text": [
      "Epoch 1000 =============> : 0.2500\n",
      "Epoch 2000 =============> : 0.2500\n",
      "Epoch 3000 =============> : 0.2500\n",
      "Epoch 4000 =============> : 0.2500\n",
      "Epoch 5000 =============> : 0.2501\n",
      "Epoch 6000 =============> : 0.2498\n",
      "Epoch 7000 =============> : 0.2110\n",
      "Epoch 8000 =============> : 0.0892\n",
      "Epoch 9000 =============> : 0.0447\n",
      "Epoch 10000 =============> : 0.0218\n",
      "Epoch 11000 =============> : 0.0176\n",
      "Epoch 12000 =============> : 0.0132\n",
      "Epoch 13000 =============> : 0.0081\n",
      "Epoch 14000 =============> : 0.0066\n",
      "Epoch 15000 =============> : 0.0059\n",
      "Epoch 16000 =============> : 0.0053\n",
      "Epoch 17000 =============> : 0.0050\n",
      "Epoch 18000 =============> : 0.0925\n",
      "Epoch 19000 =============> : 0.0402\n",
      "Epoch 20000 =============> : 0.0029\n",
      "Epoch 21000 =============> : 0.0047\n",
      "Epoch 22000 =============> : 0.0055\n",
      "Epoch 23000 =============> : 0.0057\n",
      "Epoch 24000 =============> : 0.0069\n",
      "Epoch 25000 =============> : 0.0073\n",
      "Epoch 26000 =============> : 0.0016\n",
      "Epoch 27000 =============> : 0.0013\n",
      "Epoch 28000 =============> : 0.1030\n",
      "Epoch 29000 =============> : 0.0012\n",
      "Epoch 30000 =============> : 0.0011\n",
      "Epoch 31000 =============> : 0.0014\n",
      "Epoch 32000 =============> : 0.0070\n",
      "Epoch 33000 =============> : 0.0009\n",
      "Epoch 34000 =============> : 0.0011\n",
      "Epoch 35000 =============> : 0.0011\n",
      "Epoch 36000 =============> : 0.0008\n",
      "Epoch 37000 =============> : 0.0010\n",
      "Epoch 38000 =============> : 0.0667\n",
      "Epoch 39000 =============> : 0.0007\n",
      "Epoch 40000 =============> : 0.0007\n",
      "Epoch 41000 =============> : 0.0007\n",
      "Epoch 42000 =============> : 0.0006\n",
      "Epoch 43000 =============> : 0.0046\n",
      "Epoch 44000 =============> : 0.0006\n",
      "Epoch 45000 =============> : 0.0005\n",
      "Epoch 46000 =============> : 0.0005\n",
      "Epoch 47000 =============> : 0.0020\n",
      "Epoch 48000 =============> : 0.0025\n",
      "Epoch 49000 =============> : 0.0005\n",
      "Epoch 50000 =============> : 0.0004\n",
      "Epoch 51000 =============> : 0.0004\n",
      "Epoch 52000 =============> : 0.0004\n",
      "Epoch 53000 =============> : 0.0004\n",
      "Epoch 54000 =============> : 0.0004\n",
      "Epoch 55000 =============> : 0.0003\n",
      "Epoch 56000 =============> : 0.0004\n",
      "Epoch 57000 =============> : 0.0006\n",
      "Epoch 58000 =============> : 0.0009\n",
      "Epoch 59000 =============> : 0.0003\n",
      "Epoch 60000 =============> : 0.0003\n",
      "Epoch 61000 =============> : 0.0042\n",
      "Epoch 62000 =============> : 0.0003\n",
      "Epoch 63000 =============> : 0.0003\n",
      "Epoch 64000 =============> : 0.0004\n",
      "Epoch 65000 =============> : 0.0003\n",
      "Epoch 66000 =============> : 0.0002\n",
      "Epoch 67000 =============> : 0.0009\n",
      "Epoch 68000 =============> : 0.0003\n",
      "Epoch 69000 =============> : 0.0002\n",
      "Epoch 70000 =============> : 0.0002\n",
      "Epoch 71000 =============> : 0.0002\n",
      "Epoch 72000 =============> : 0.0014\n",
      "Epoch 73000 =============> : 0.0007\n",
      "Epoch 74000 =============> : 0.0003\n",
      "Epoch 75000 =============> : 0.0006\n",
      "Epoch 76000 =============> : 0.0002\n"
     ]
    },
    {
     "name": "stderr",
     "output_type": "stream",
     "text": [
      "/var/folders/vy/rf3fl1s95m356h18mymsqbr00000gn/T/ipykernel_2072/2980358171.py:7: RuntimeWarning: overflow encountered in exp\n",
      "  return 1/(1 + np.exp(-x))\n"
     ]
    },
    {
     "name": "stdout",
     "output_type": "stream",
     "text": [
      "Epoch 77000 =============> : 0.0002\n",
      "Epoch 78000 =============> : 0.0002\n",
      "Epoch 79000 =============> : 0.0002\n",
      "Epoch 80000 =============> : 0.0007\n",
      "Epoch 81000 =============> : 0.0002\n",
      "Epoch 82000 =============> : 0.0002\n",
      "Epoch 83000 =============> : 0.0002\n",
      "Epoch 84000 =============> : 0.0002\n",
      "Epoch 85000 =============> : 0.0002\n",
      "Epoch 86000 =============> : 0.0010\n",
      "Epoch 87000 =============> : 0.0002\n",
      "Epoch 88000 =============> : 0.0002\n",
      "Epoch 89000 =============> : 0.0004\n",
      "Epoch 90000 =============> : 0.0004\n",
      "Epoch 91000 =============> : 0.0001\n",
      "Epoch 92000 =============> : 0.0002\n",
      "Epoch 93000 =============> : 0.0042\n",
      "Epoch 94000 =============> : 0.0001\n",
      "Epoch 95000 =============> : 0.0002\n",
      "Epoch 96000 =============> : 0.0001\n",
      "Epoch 97000 =============> : 0.0002\n",
      "Epoch 98000 =============> : 0.0001\n",
      "Epoch 99000 =============> : 0.0001\n",
      "Epoch 100000 =============> : 0.0001\n",
      "Output final est : [[4.44991171e-05]\n",
      " [9.84335279e-01]\n",
      " [9.84335279e-01]\n",
      " [1.71197548e-10]]\n"
     ]
    }
   ],
   "source": [
    "X = np.array([[0,0],[0,1],[1,0],[1,1]])\n",
    "y = np. array([[0],[1],[1],[0]])\n",
    "W1,b1,W2,b2 = train_model(X,y,2,2,1,100000,1000,sigmoid,sigmoid)\n",
    "a1 = forward(X,W1,b1,sigmoid)\n",
    "output = forward(a1,W2,b2,sigmoid)\n",
    "print(f\"Output final est : {output}\")"
   ]
  },
  {
   "cell_type": "code",
   "execution_count": 4,
   "id": "f5867f86",
   "metadata": {},
   "outputs": [
    {
     "data": {
      "text/plain": [
       "array([[0., 0.]])"
      ]
     },
     "execution_count": 4,
     "metadata": {},
     "output_type": "execute_result"
    }
   ],
   "source": [
    "np.zeros((1,2))"
   ]
  },
  {
   "cell_type": "code",
   "execution_count": 5,
   "id": "1c1a5ca6",
   "metadata": {},
   "outputs": [
    {
     "name": "stdout",
     "output_type": "stream",
     "text": [
      "2.2.1\n"
     ]
    }
   ],
   "source": [
    "! python -c \"import pandas; print(pandas.__version__)\""
   ]
  },
  {
   "cell_type": "code",
   "execution_count": 6,
   "id": "e3876fb0",
   "metadata": {},
   "outputs": [
    {
     "name": "stdout",
     "output_type": "stream",
     "text": [
      "1.26.4\n"
     ]
    }
   ],
   "source": [
    "! python -c \"import numpy; print(numpy.__version__)\""
   ]
  },
  {
   "cell_type": "code",
   "execution_count": null,
   "id": "985eebcc",
   "metadata": {},
   "outputs": [],
   "source": []
  },
  {
   "cell_type": "code",
   "execution_count": 7,
   "id": "3c6b7f57",
   "metadata": {},
   "outputs": [],
   "source": [
    "(train_images,train_labels),(test_images,test_labels) = mnist.load_data()"
   ]
  },
  {
   "cell_type": "code",
   "execution_count": 8,
   "id": "7fa8db8f",
   "metadata": {},
   "outputs": [
    {
     "data": {
      "text/plain": [
       "(60000, 28, 28)"
      ]
     },
     "execution_count": 8,
     "metadata": {},
     "output_type": "execute_result"
    }
   ],
   "source": [
    "train_images.shape"
   ]
  },
  {
   "cell_type": "code",
   "execution_count": 9,
   "id": "c46ab235",
   "metadata": {},
   "outputs": [
    {
     "data": {
      "text/plain": [
       "array([5, 0, 4, ..., 5, 6, 8], dtype=uint8)"
      ]
     },
     "execution_count": 9,
     "metadata": {},
     "output_type": "execute_result"
    }
   ],
   "source": [
    "train_labels"
   ]
  },
  {
   "cell_type": "code",
   "execution_count": 10,
   "id": "014001e1",
   "metadata": {},
   "outputs": [],
   "source": [
    "digit = train_images[4]"
   ]
  },
  {
   "cell_type": "code",
   "execution_count": 11,
   "id": "fa9ee8cd",
   "metadata": {},
   "outputs": [],
   "source": [
    "def show_image(digit):\n",
    "    plt.imshow(digit,cmap=plt.cm.binary)\n",
    "    plt.show()"
   ]
  },
  {
   "cell_type": "code",
   "execution_count": 12,
   "id": "7a2baf64",
   "metadata": {},
   "outputs": [
    {
     "data": {
      "image/png": "[encoded data removed]",
      "text/plain": [
       "<Figure size 640x480 with 1 Axes>"
      ]
     },
     "metadata": {},
     "output_type": "display_data"
    }
   ],
   "source": [
    "show_image(digit)"
   ]
  },
  {
   "cell_type": "code",
   "execution_count": 13,
   "id": "c7bc6835",
   "metadata": {},
   "outputs": [],
   "source": [
    "model = models.Sequential()"
   ]
  },
  {
   "cell_type": "code",
   "execution_count": 14,
   "id": "871c41d9",
   "metadata": {},
   "outputs": [
    {
     "name": "stderr",
     "output_type": "stream",
     "text": [
      "/Users/macbookpro/anaconda3/lib/python3.11/site-packages/keras/src/layers/core/dense.py:85: UserWarning: Do not pass an `input_shape`/`input_dim` argument to a layer. When using Sequential models, prefer using an `Input(shape)` object as the first layer in the model instead.\n",
      "  super().__init__(activity_regularizer=activity_regularizer, **kwargs)\n"
     ]
    }
   ],
   "source": [
    "model.add(layers.Dense(512,activation='relu',input_shape=(28*28,)))\n",
    "model.add(layers.Dense(10,activation='softmax'))"
   ]
  },
  {
   "cell_type": "code",
   "execution_count": 15,
   "id": "ce74711a",
   "metadata": {},
   "outputs": [],
   "source": [
    "model.compile(optimizer='rmsprop',loss='categorical_crossentropy',metrics=[\"accuracy\"])"
   ]
  },
  {
   "cell_type": "code",
   "execution_count": 16,
   "id": "8423e87d",
   "metadata": {},
   "outputs": [
    {
     "data": {
      "text/html": [
       "<pre style=\"white-space:pre;overflow-x:auto;line-height:normal;font-family:Menlo,'DejaVu Sans Mono',consolas,'Courier New',monospace\"><span style=\"font-weight: bold\">Model: \"sequential\"</span>\n",
       "</pre>\n"
      ],
      "text/plain": [
       "\u001b[1mModel: \"sequential\"\u001b[0m\n"
      ]
     },
     "metadata": {},
     "output_type": "display_data"
    },
    {
     "data": {
      "text/html": [
       "<pre style=\"white-space:pre;overflow-x:auto;line-height:normal;font-family:Menlo,'DejaVu Sans Mono',consolas,'Courier New',monospace\">┏━━━━━━━━━━━━━━━━━━━━━━━━━━━━━━━━━┳━━━━━━━━━━━━━━━━━━━━━━━━┳━━━━━━━━━━━━━━━┓\n",
       "┃<span style=\"font-weight: bold\"> Layer (type)                    </span>┃<span style=\"font-weight: bold\"> Output Shape           </span>┃<span style=\"font-weight: bold\">       Param # </span>┃\n",
       "┡━━━━━━━━━━━━━━━━━━━━━━━━━━━━━━━━━╇━━━━━━━━━━━━━━━━━━━━━━━━╇━━━━━━━━━━━━━━━┩\n",
       "│ dense (<span style=\"color: #0087ff; text-decoration-color: #0087ff\">Dense</span>)                   │ (<span style=\"color: #00d7ff; text-decoration-color: #00d7ff\">None</span>, <span style=\"color: #00af00; text-decoration-color: #00af00\">512</span>)            │       <span style=\"color: #00af00; text-decoration-color: #00af00\">401,920</span> │\n",
       "├─────────────────────────────────┼────────────────────────┼───────────────┤\n",
       "│ dense_1 (<span style=\"color: #0087ff; text-decoration-color: #0087ff\">Dense</span>)                 │ (<span style=\"color: #00d7ff; text-decoration-color: #00d7ff\">None</span>, <span style=\"color: #00af00; text-decoration-color: #00af00\">10</span>)             │         <span style=\"color: #00af00; text-decoration-color: #00af00\">5,130</span> │\n",
       "└─────────────────────────────────┴────────────────────────┴───────────────┘\n",
       "</pre>\n"
      ],
      "text/plain": [
       "┏━━━━━━━━━━━━━━━━━━━━━━━━━━━━━━━━━┳━━━━━━━━━━━━━━━━━━━━━━━━┳━━━━━━━━━━━━━━━┓\n",
       "┃\u001b[1m \u001b[0m\u001b[1mLayer (type)                   \u001b[0m\u001b[1m \u001b[0m┃\u001b[1m \u001b[0m\u001b[1mOutput Shape          \u001b[0m\u001b[1m \u001b[0m┃\u001b[1m \u001b[0m\u001b[1m      Param #\u001b[0m\u001b[1m \u001b[0m┃\n",
       "┡━━━━━━━━━━━━━━━━━━━━━━━━━━━━━━━━━╇━━━━━━━━━━━━━━━━━━━━━━━━╇━━━━━━━━━━━━━━━┩\n",
       "│ dense (\u001b[38;5;33mDense\u001b[0m)                   │ (\u001b[38;5;45mNone\u001b[0m, \u001b[38;5;34m512\u001b[0m)            │       \u001b[38;5;34m401,920\u001b[0m │\n",
       "├─────────────────────────────────┼────────────────────────┼───────────────┤\n",
       "│ dense_1 (\u001b[38;5;33mDense\u001b[0m)                 │ (\u001b[38;5;45mNone\u001b[0m, \u001b[38;5;34m10\u001b[0m)             │         \u001b[38;5;34m5,130\u001b[0m │\n",
       "└─────────────────────────────────┴────────────────────────┴───────────────┘\n"
      ]
     },
     "metadata": {},
     "output_type": "display_data"
    },
    {
     "data": {
      "text/html": [
       "<pre style=\"white-space:pre;overflow-x:auto;line-height:normal;font-family:Menlo,'DejaVu Sans Mono',consolas,'Courier New',monospace\"><span style=\"font-weight: bold\"> Total params: </span><span style=\"color: #00af00; text-decoration-color: #00af00\">407,050</span> (1.55 MB)\n",
       "</pre>\n"
      ],
      "text/plain": [
       "\u001b[1m Total params: \u001b[0m\u001b[38;5;34m407,050\u001b[0m (1.55 MB)\n"
      ]
     },
     "metadata": {},
     "output_type": "display_data"
    },
    {
     "data": {
      "text/html": [
       "<pre style=\"white-space:pre;overflow-x:auto;line-height:normal;font-family:Menlo,'DejaVu Sans Mono',consolas,'Courier New',monospace\"><span style=\"font-weight: bold\"> Trainable params: </span><span style=\"color: #00af00; text-decoration-color: #00af00\">407,050</span> (1.55 MB)\n",
       "</pre>\n"
      ],
      "text/plain": [
       "\u001b[1m Trainable params: \u001b[0m\u001b[38;5;34m407,050\u001b[0m (1.55 MB)\n"
      ]
     },
     "metadata": {},
     "output_type": "display_data"
    },
    {
     "data": {
      "text/html": [
       "<pre style=\"white-space:pre;overflow-x:auto;line-height:normal;font-family:Menlo,'DejaVu Sans Mono',consolas,'Courier New',monospace\"><span style=\"font-weight: bold\"> Non-trainable params: </span><span style=\"color: #00af00; text-decoration-color: #00af00\">0</span> (0.00 B)\n",
       "</pre>\n"
      ],
      "text/plain": [
       "\u001b[1m Non-trainable params: \u001b[0m\u001b[38;5;34m0\u001b[0m (0.00 B)\n"
      ]
     },
     "metadata": {},
     "output_type": "display_data"
    }
   ],
   "source": [
    "model.summary()"
   ]
  },
  {
   "cell_type": "code",
   "execution_count": 17,
   "id": "6819ddbf",
   "metadata": {},
   "outputs": [],
   "source": [
    "# Préparation des données images\n",
    "train_images = train_images.reshape((60000,28*28))\n",
    "train_images = train_images.astype('float32')/255\n",
    "\n",
    "test_images = test_images.reshape((10000,28*28))\n",
    "test_images = test_images.astype('float32')/255"
   ]
  },
  {
   "cell_type": "code",
   "execution_count": 18,
   "id": "60fc68f0",
   "metadata": {},
   "outputs": [],
   "source": [
    "# Préparation des labels\n",
    "train_labels = to_categorical(train_labels)\n",
    "test_labels = to_categorical(test_labels)"
   ]
  },
  {
   "cell_type": "code",
   "execution_count": 19,
   "id": "fb436407",
   "metadata": {},
   "outputs": [
    {
     "name": "stdout",
     "output_type": "stream",
     "text": [
      "Epoch 1/10\n",
      "\u001b[1m375/375\u001b[0m \u001b[32m━━━━━━━━━━━━━━━━━━━━\u001b[0m\u001b[37m\u001b[0m \u001b[1m4s\u001b[0m 9ms/step - accuracy: 0.8562 - loss: 0.4945 - val_accuracy: 0.9605 - val_loss: 0.1484\n",
      "Epoch 2/10\n",
      "\u001b[1m375/375\u001b[0m \u001b[32m━━━━━━━━━━━━━━━━━━━━\u001b[0m\u001b[37m\u001b[0m \u001b[1m3s\u001b[0m 7ms/step - accuracy: 0.9629 - loss: 0.1292 - val_accuracy: 0.9600 - val_loss: 0.1300\n",
      "Epoch 3/10\n",
      "\u001b[1m375/375\u001b[0m \u001b[32m━━━━━━━━━━━━━━━━━━━━\u001b[0m\u001b[37m\u001b[0m \u001b[1m3s\u001b[0m 7ms/step - accuracy: 0.9756 - loss: 0.0798 - val_accuracy: 0.9731 - val_loss: 0.0885\n",
      "Epoch 4/10\n",
      "\u001b[1m375/375\u001b[0m \u001b[32m━━━━━━━━━━━━━━━━━━━━\u001b[0m\u001b[37m\u001b[0m \u001b[1m4s\u001b[0m 10ms/step - accuracy: 0.9830 - loss: 0.0564 - val_accuracy: 0.9761 - val_loss: 0.0807\n",
      "Epoch 5/10\n",
      "\u001b[1m375/375\u001b[0m \u001b[32m━━━━━━━━━━━━━━━━━━━━\u001b[0m\u001b[37m\u001b[0m \u001b[1m3s\u001b[0m 8ms/step - accuracy: 0.9884 - loss: 0.0403 - val_accuracy: 0.9777 - val_loss: 0.0777\n",
      "Epoch 6/10\n",
      "\u001b[1m375/375\u001b[0m \u001b[32m━━━━━━━━━━━━━━━━━━━━\u001b[0m\u001b[37m\u001b[0m \u001b[1m3s\u001b[0m 8ms/step - accuracy: 0.9901 - loss: 0.0335 - val_accuracy: 0.9768 - val_loss: 0.0813\n",
      "Epoch 7/10\n",
      "\u001b[1m375/375\u001b[0m \u001b[32m━━━━━━━━━━━━━━━━━━━━\u001b[0m\u001b[37m\u001b[0m \u001b[1m5s\u001b[0m 9ms/step - accuracy: 0.9932 - loss: 0.0226 - val_accuracy: 0.9781 - val_loss: 0.0766\n",
      "Epoch 8/10\n",
      "\u001b[1m375/375\u001b[0m \u001b[32m━━━━━━━━━━━━━━━━━━━━\u001b[0m\u001b[37m\u001b[0m \u001b[1m3s\u001b[0m 8ms/step - accuracy: 0.9960 - loss: 0.0160 - val_accuracy: 0.9730 - val_loss: 0.0950\n",
      "Epoch 9/10\n",
      "\u001b[1m375/375\u001b[0m \u001b[32m━━━━━━━━━━━━━━━━━━━━\u001b[0m\u001b[37m\u001b[0m \u001b[1m5s\u001b[0m 7ms/step - accuracy: 0.9970 - loss: 0.0119 - val_accuracy: 0.9803 - val_loss: 0.0759\n",
      "Epoch 10/10\n",
      "\u001b[1m375/375\u001b[0m \u001b[32m━━━━━━━━━━━━━━━━━━━━\u001b[0m\u001b[37m\u001b[0m \u001b[1m3s\u001b[0m 8ms/step - accuracy: 0.9977 - loss: 0.0102 - val_accuracy: 0.9787 - val_loss: 0.0794\n"
     ]
    }
   ],
   "source": [
    "# Entraînement du modèle\n",
    "history = model.fit(train_images,train_labels,epochs=10,batch_size=128,validation_split=0.2)"
   ]
  },
  {
   "cell_type": "code",
   "execution_count": 20,
   "id": "ec94b0d4",
   "metadata": {},
   "outputs": [
    {
     "name": "stdout",
     "output_type": "stream",
     "text": [
      "\u001b[1m313/313\u001b[0m \u001b[32m━━━━━━━━━━━━━━━━━━━━\u001b[0m\u001b[37m\u001b[0m \u001b[1m1s\u001b[0m 2ms/step - accuracy: 0.9789 - loss: 0.0783\n",
      "Accuracy : 0.9815999865531921\n"
     ]
    }
   ],
   "source": [
    "# Evaluation du modèle\n",
    "test_loss,test_acc = model.evaluate(test_images,test_labels)\n",
    "print(f'Accuracy : {test_acc}')"
   ]
  },
  {
   "cell_type": "code",
   "execution_count": 21,
   "id": "f172d6d9",
   "metadata": {},
   "outputs": [
    {
     "data": {
      "image/png": "[encoded data removed]",
      "text/plain": [
       "<Figure size 640x480 with 1 Axes>"
      ]
     },
     "metadata": {},
     "output_type": "display_data"
    }
   ],
   "source": [
    "# Courbe d'apprentissage\n",
    "history_dict = history.history\n",
    "\n",
    "loss_values = history_dict['loss']\n",
    "val_loss_values = history_dict['val_loss']\n",
    "\n",
    "epochs = range(1,len(loss_values)+1)\n",
    "\n",
    "plt.plot(epochs,loss_values,'bo',label='Training loss')\n",
    "plt.plot(epochs,val_loss_values,'b-',label='Validation loss')\n",
    "plt.xlabel(\"Epochs\")\n",
    "plt.ylabel(\"Loss\")\n",
    "plt.legend()\n",
    "plt.show()"
   ]
  },
  {
   "cell_type": "code",
   "execution_count": 22,
   "id": "f327039d",
   "metadata": {},
   "outputs": [
    {
     "data": {
      "image/png": "[encoded data removed]",
      "text/plain": [
       "<Figure size 640x480 with 1 Axes>"
      ]
     },
     "metadata": {},
     "output_type": "display_data"
    }
   ],
   "source": [
    "# Courbe d'apprentissage\n",
    "history_dict = history.history\n",
    "\n",
    "acc_values = history_dict['accuracy']\n",
    "val_acc_values = history_dict['val_accuracy']\n",
    "\n",
    "epochs = range(1,len(acc_values)+1)\n",
    "\n",
    "plt.plot(epochs,acc_values,'bo',label='Training acc')\n",
    "plt.plot(epochs,val_acc_values,'b-',label='Validation acc')\n",
    "plt.xlabel(\"Epochs\")\n",
    "plt.ylabel(\"Acc\")\n",
    "plt.legend()\n",
    "plt.show()"
   ]
  },
  {
   "cell_type": "code",
   "execution_count": null,
   "id": "9c5a874f",
   "metadata": {},
   "outputs": [],
   "source": []
  }
 ],
 "metadata": {
  "hide_input": false,
  "kernelspec": {
   "display_name": "Python 3 (ipykernel)",
   "language": "python",
   "name": "python3"
  },
  "language_info": {
   "codemirror_mode": {
    "name": "ipython",
    "version": 3
   },
   "file_extension": ".py",
   "mimetype": "text/x-python",
   "name": "python",
   "nbconvert_exporter": "python",
   "pygments_lexer": "ipython3",
   "version": "3.11.5"
  },
  "varInspector": {
   "cols": {
    "lenName": 16,
    "lenType": 16,
    "lenVar": 40
   },
   "kernels_config": {
    "python": {
     "delete_cmd_postfix": "",
     "delete_cmd_prefix": "del ",
     "library": "var_list.py",
     "varRefreshCmd": "print(var_dic_list())"
    },
    "r": {
     "delete_cmd_postfix": ") ",
     "delete_cmd_prefix": "rm(",
     "library": "var_list.r",
     "varRefreshCmd": "cat(var_dic_list()) "
    }
   },
   "types_to_exclude": [
    "module",
    "function",
    "builtin_function_or_method",
    "instance",
    "_Feature"
   ],
   "window_display": false
  }
 },
 "nbformat": 4,
 "nbformat_minor": 5
}
