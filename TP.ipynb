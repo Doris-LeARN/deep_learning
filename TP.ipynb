{
 "cells": [
  {
   "cell_type": "code",
   "execution_count": 1,
   "id": "4b8cf679",
   "metadata": {},
   "outputs": [],
   "source": [
    "import numpy as np"
   ]
  },
  {
   "cell_type": "code",
   "execution_count": 2,
   "id": "7299f49e",
   "metadata": {},
   "outputs": [],
   "source": [
    "def calcul_entree_coucheCachee(x, poids):\n",
    "    x_coucheCachee = x * poids\n",
    "    return x_coucheCachee"
   ]
  },
  {
   "cell_type": "code",
   "execution_count": 3,
   "id": "f167ff89",
   "metadata": {},
   "outputs": [
    {
     "name": "stdout",
     "output_type": "stream",
     "text": [
      "6.5\n",
      "-6\n",
      "3\n",
      "27.25\n",
      "Parce que relu0 est positif, Sortie0 =  27.25\n",
      "-4.0\n",
      "Parce que relu1 est negatif, Sortie1 =  0\n"
     ]
    }
   ],
   "source": [
    "x0_h0 = calcul_entree_coucheCachee(1, 0.5)\n",
    "x1_h0 = calcul_entree_coucheCachee(2, 3)\n",
    "\n",
    "x0_h1 = calcul_entree_coucheCachee(1, -2)\n",
    "x1_h1 = calcul_entree_coucheCachee(2, -2)\n",
    "\n",
    "x0_h2 = calcul_entree_coucheCachee(1, 1)\n",
    "x1_h2 = calcul_entree_coucheCachee(2, 1)\n",
    "\n",
    "\n",
    "h0 = x0_h0 + x1_h0\n",
    "print (h0)\n",
    "\n",
    "h1 = x0_h1 + x1_h1\n",
    "print (h1)\n",
    "\n",
    "h2 = x0_h2 + x1_h2\n",
    "print (h2)\n",
    "\n",
    "relu0 = calcul_entree_coucheCachee(h0, 0.5) + calcul_entree_coucheCachee(h1, -3) + calcul_entree_coucheCachee(h2, 2)\n",
    "print(relu0)\n",
    "print(f\"Parce que relu0 est positif, Sortie0 = \", relu0)\n",
    "\n",
    "relu1 = calcul_entree_coucheCachee(h0, -2) + calcul_entree_coucheCachee(h1, -1) + calcul_entree_coucheCachee(h2, 1)\n",
    "print(relu1)\n",
    "print(f\"Parce que relu1 est negatif, Sortie1 = \",0)"
   ]
  },
  {
   "cell_type": "code",
   "execution_count": 9,
   "id": "1f975b3f",
   "metadata": {},
   "outputs": [
    {
     "name": "stdout",
     "output_type": "stream",
     "text": [
      "Sortie finale du réseau de neurones (Sortie 1) : 0.9999999999985363\n",
      "Sortie finale du réseau de neurones (Sortie 2) : 0.5\n"
     ]
    }
   ],
   "source": [
    "import numpy as np\n",
    "\n",
    "# Fonction pour calculer l'entrée d'une couche cachée\n",
    "def calcul_entree_coucheCachee(x, poids):\n",
    "    return x * poids\n",
    "\n",
    "# Fonction pour calculer la somme des entrées pondérées\n",
    "def somme_entrees_ponderees(inputs, poids):\n",
    "    weighted_inputs = [calcul_entree_coucheCachee(x, p) for x, p in zip(inputs, poids)]\n",
    "    net_input = sum(weighted_inputs)\n",
    "    return net_input\n",
    "\n",
    "# Fonction pour appliquer la fonction ReLU\n",
    "def appliquer_relu(output):\n",
    "    return max(0, output)\n",
    "\n",
    "# Fonction d'activation sigmoid\n",
    "def sigmoid_activation(x):\n",
    "    return 1 / (1 + np.exp(-x))\n",
    "\n",
    "# Modélisation du réseau de neurones avec deux sorties\n",
    "def reseau_neurones(inputs):\n",
    "    # Poids vers les couches cachées\n",
    "    poids_h0 = [0.5, 3]\n",
    "    poids_h1 = [-2, -2]\n",
    "    poids_h2 = [1, 1]\n",
    "\n",
    "    # Poids vers les sorties\n",
    "    poids_sortie1 = [0.5, -3, 2]\n",
    "    poids_sortie2 = [-2, -1, 1]\n",
    "\n",
    "    # Calcul des sorties des couches cachées\n",
    "    h0 = somme_entrees_ponderees(inputs, poids_h0)\n",
    "    h1 = somme_entrees_ponderees(inputs, poids_h1)\n",
    "    h2 = somme_entrees_ponderees(inputs, poids_h2)\n",
    "\n",
    "    # Calcul des sorties finales\n",
    "    sortie1 = somme_entrees_ponderees([h0, h1, h2], poids_sortie1)\n",
    "    sortie2 = somme_entrees_ponderees([h0, h1, h2], poids_sortie2)\n",
    "\n",
    "    # Appliquer la fonction ReLU aux sorties finales\n",
    "    resultat_final1 = appliquer_relu(sortie1)\n",
    "    resultat_final2 = appliquer_relu(sortie2)\n",
    "\n",
    "    # Appliquer la fonction d'activation sigmoid aux sorties finales\n",
    "    resultat_final1 = sigmoid_activation(resultat_final1)\n",
    "    resultat_final2 = sigmoid_activation(resultat_final2)\n",
    "\n",
    "    return resultat_final1, resultat_final2\n",
    "\n",
    "# Entrées du réseau\n",
    "inputs = [1, 2]\n",
    "\n",
    "# Obtenir les sorties du réseau de neurones\n",
    "resultat_final1, resultat_final2 = reseau_neurones(inputs)\n",
    "\n",
    "# Affichage des résultats\n",
    "print(\"Sortie finale du réseau de neurones (Sortie 1) :\", resultat_final1)\n",
    "print(\"Sortie finale du réseau de neurones (Sortie 2) :\", resultat_final2)\n"
   ]
  },
  {
   "cell_type": "code",
   "execution_count": null,
   "id": "a0868017",
   "metadata": {},
   "outputs": [],
   "source": []
  }
 ],
 "metadata": {
  "kernelspec": {
   "display_name": "Python 3 (ipykernel)",
   "language": "python",
   "name": "python3"
  },
  "language_info": {
   "codemirror_mode": {
    "name": "ipython",
    "version": 3
   },
   "file_extension": ".py",
   "mimetype": "text/x-python",
   "name": "python",
   "nbconvert_exporter": "python",
   "pygments_lexer": "ipython3",
   "version": "3.11.5"
  }
 },
 "nbformat": 4,
 "nbformat_minor": 5
}
